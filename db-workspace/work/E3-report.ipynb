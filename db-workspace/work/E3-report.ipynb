{
 "cells": [
  {
   "attachments": {},
   "cell_type": "markdown",
   "id": "19b43aee-c23f-4ef7-8547-9c309b2dbecb",
   "metadata": {},
   "source": [
    "# Projeto de Bases de Dados - Parte 3\n",
    "\n",
    "### Docente Responsável\n",
    "\n",
    "Prof. Daniel Faria\n",
    "\n",
    "### Grupo 37\n",
    "<dl>\n",
    "    <dt>25 horas (33.3%)</dt>\n",
    "    <dd>ist1103131 Joana Marques</dd>\n",
    "    <dt>25 horas (33.3%)</dt>\n",
    "    <dd>ist1102890 David Nunes</dd>\n",
    "    <dt>25 horas (33.3%)</dt>\n",
    "    <dd>ist1103145 Nathaniel Prazeres</dd>\n",
    "<dl>"
   ]
  },
  {
   "cell_type": "code",
   "execution_count": null,
   "id": "a6545a02-adea-4c57-b704-cfa1f6253e4b",
   "metadata": {
    "tags": []
   },
   "outputs": [],
   "source": [
    "%load_ext sql\n",
    "%sql postgresql://db:db@postgres/db"
   ]
  },
  {
   "attachments": {},
   "cell_type": "markdown",
   "id": "1c5deb6e-396e-401f-9b09-af4cd09491a9",
   "metadata": {
    "tags": []
   },
   "source": [
    "# Empresa de comércio online"
   ]
  },
  {
   "attachments": {},
   "cell_type": "markdown",
   "id": "76eab1e8-8d6a-41e3-b242-553a7f14ba84",
   "metadata": {
    "tags": []
   },
   "source": [
    "## 0. Carregamento da Base de Dados"
   ]
  },
  {
   "attachments": {},
   "cell_type": "markdown",
   "id": "e047df4e-b18b-4c70-8f7b-378b4201ee01",
   "metadata": {},
   "source": [
    "Carregue o esquema de Base de Dados apresentado no Anexo A."
   ]
  },
  {
   "cell_type": "code",
   "execution_count": null,
   "id": "c718077c-5193-47a0-bb76-8f1f43a713be",
   "metadata": {},
   "outputs": [],
   "source": [
    "%%sql\n",
    "\n",
    "DROP TABLE IF EXISTS customer CASCADE;\n",
    "DROP TABLE IF EXISTS orders CASCADE;\n",
    "DROP TABLE IF EXISTS pay CASCADE;\n",
    "DROP TABLE IF EXISTS employee CASCADE;\n",
    "DROP TABLE IF EXISTS process CASCADE;\n",
    "DROP TABLE IF EXISTS department CASCADE;\n",
    "DROP TABLE IF EXISTS workplace CASCADE;\n",
    "DROP TABLE IF EXISTS works CASCADE;\n",
    "DROP TABLE IF EXISTS office CASCADE;\n",
    "DROP TABLE IF EXISTS warehouse CASCADE;\n",
    "DROP TABLE IF EXISTS product CASCADE;\n",
    "DROP TABLE IF EXISTS contains CASCADE;\n",
    "DROP TABLE IF EXISTS supplier CASCADE;\n",
    "DROP TABLE IF EXISTS delivery CASCADE;\n",
    "\n",
    "CREATE TABLE customer(\n",
    "cust_no INTEGER PRIMARY KEY,\n",
    "name VARCHAR(80) NOT NULL,\n",
    "email VARCHAR(254) UNIQUE NOT NULL,\n",
    "phone VARCHAR(15),\n",
    "address VARCHAR(255)\n",
    ");\n",
    "\n",
    "CREATE TABLE orders(\n",
    "order_no INTEGER PRIMARY KEY,\n",
    "cust_no INTEGER NOT NULL REFERENCES customer,\n",
    "date DATE NOT NULL\n",
    "--order_no must exist in contains\n",
    ");\n",
    "\n",
    "CREATE TABLE pay(\n",
    "order_no INTEGER PRIMARY KEY REFERENCES orders,\n",
    "cust_no INTEGER NOT NULL REFERENCES customer\n",
    ");\n",
    "\n",
    "CREATE TABLE employee(\n",
    "ssn VARCHAR(20) PRIMARY KEY,\n",
    "TIN VARCHAR(20) UNIQUE NOT NULL,\n",
    "bdate DATE,\n",
    "name VARCHAR NOT NULL\n",
    "--age must be >=18\n",
    ");\n",
    "\n",
    "CREATE TABLE process(\n",
    "ssn VARCHAR(20) REFERENCES employee,\n",
    "order_no INTEGER REFERENCES orders,\n",
    "PRIMARY KEY (ssn, order_no)\n",
    ");\n",
    "\n",
    "CREATE TABLE department(\n",
    "name VARCHAR PRIMARY KEY\n",
    ");\n",
    "\n",
    "CREATE TABLE workplace(\n",
    "address VARCHAR PRIMARY KEY,\n",
    "lat NUMERIC(8, 6) NOT NULL,\n",
    "long NUMERIC(9, 6) NOT NULL,\n",
    "UNIQUE(lat, long)\n",
    "--address must be in warehouse or office but not both\n",
    ");\n",
    "\n",
    "CREATE TABLE office(\n",
    "address VARCHAR(255) PRIMARY KEY REFERENCES workplace\n",
    ");\n",
    "\n",
    "CREATE TABLE warehouse(\n",
    "address VARCHAR(255) PRIMARY KEY REFERENCES workplace\n",
    ");\n",
    "\n",
    "CREATE TABLE works(\n",
    "ssn VARCHAR(20) REFERENCES employee,\n",
    "name VARCHAR(200) REFERENCES department,\n",
    "address VARCHAR(255) REFERENCES workplace,\n",
    "PRIMARY KEY (ssn, name, address)\n",
    ");\n",
    "\n",
    "CREATE TABLE product(\n",
    "SKU VARCHAR(25) PRIMARY KEY,\n",
    "name VARCHAR(200) NOT NULL,\n",
    "description VARCHAR,\n",
    "price NUMERIC(10, 2) NOT NULL,\n",
    "ean NUMERIC(13) UNIQUE\n",
    ");\n",
    "\n",
    "CREATE TABLE contains(\n",
    "order_no INTEGER REFERENCES orders,\n",
    "SKU VARCHAR(25) REFERENCES product,\n",
    "qty INTEGER,\n",
    "PRIMARY KEY (order_no, SKU)\n",
    ");\n",
    "\n",
    "CREATE TABLE supplier(\n",
    "TIN VARCHAR(20) PRIMARY KEY,\n",
    "name VARCHAR(200),\n",
    "address VARCHAR(255),\n",
    "SKU VARCHAR(25) REFERENCES product,\n",
    "date DATE\n",
    ");\n",
    "\n",
    "CREATE TABLE delivery(\n",
    "address VARCHAR(255) REFERENCES warehouse,\n",
    "TIN VARCHAR(20) REFERENCES supplier,\n",
    "PRIMARY KEY (address, TIN)\n",
    ");"
   ]
  },
  {
   "attachments": {},
   "cell_type": "markdown",
   "id": "25fcb3f3-2ec6-4264-bd74-d07bfd56fa76",
   "metadata": {},
   "source": [
    "Crie as instruções para o seu preenchimento de forma consistente, garantindo que todas as consultas SQL e OLAP, apresentadas mais adiante, produzam um resultado não vazio. "
   ]
  },
  {
   "cell_type": "code",
   "execution_count": null,
   "id": "e33d841c-c21e-4a9a-88b4-00b45b039261",
   "metadata": {
    "tags": []
   },
   "outputs": [],
   "source": [
    "%%sql\n",
    "\n",
    "INSERT INTO customer (cust_no, name, email, phone, address) VALUES\n",
    "(1, 'John Doe', 'johndoe@example.com', '123-456-0', '123 Main St'),\n",
    "(2, 'Jane Smith', 'janesmith@example.com', '555-555-5555', '456 Oak Ave'),\n",
    "(3, 'Bob Johnson', 'bjohnson@example.com', '555--4567', '789 Elm St');\n",
    "\n",
    "BEGIN;\n",
    "INSERT INTO orders (order_no, cust_no, date) VALUES\n",
    "(1, 1, '2022-06-01'),\n",
    "(2, 2, '2022-06-02'),\n",
    "(3, 3, '2020-06-03'),\n",
    "(4, 1, '2019-06-04'),\n",
    "(5, 2, '2019-06-05');\n",
    "\n",
    "INSERT INTO product (SKU, name, description, price, ean) VALUES\n",
    "('SKU123', 'Product 1', 'This is product 1', 10.99, 1234567890123),\n",
    "('SKU456', 'Product 2', 'This is product 2', 19.99, 2345678901234),\n",
    "('SKU789', 'Product 3', 'This is product 3', 5.99, 3456789012345);\n",
    "\n",
    "INSERT INTO contains (order_no, SKU, qty) VALUES\n",
    "(1, 'SKU123', 2),\n",
    "(2, 'SKU456', 1),\n",
    "(3, 'SKU789', 3),\n",
    "(4, 'SKU123', 1),\n",
    "(5, 'SKU456', 2);\n",
    "COMMIT;\n",
    "\n",
    "INSERT INTO pay (order_no, cust_no) VALUES\n",
    "(2, 2),\n",
    "(3, 3);\n",
    "\n",
    "INSERT INTO employee (ssn, TIN, bdate, name) VALUES\n",
    "('123-45-6789', '987-65-4321', '1990-01-01', 'John Smith'),\n",
    "('234-56-7890', '876-54-3210', '1995-02-02', 'Jane Doe'),\n",
    "('345-67-8901', '765-43-2109', '2000-03-03', 'Bob Johnson');\n",
    "\n",
    "INSERT INTO process (ssn, order_no) VALUES\n",
    "('123-45-6789', 1),\n",
    "('123-45-6789', 2),\n",
    "('345-67-8901', 3);\n",
    "\n",
    "INSERT INTO department (name) VALUES\n",
    "('Sales'),\n",
    "('Marketing'),\n",
    "('Engineering');\n",
    "\n",
    "BEGIN;\n",
    "INSERT INTO workplace (address, lat, long) VALUES\n",
    "('123 Main St', 40.7128, -74.0061),\n",
    "('456 Oak Ave', 37.7749, -122.4114),\n",
    "('789 Elm St', 34.0522, -118.2437);\n",
    "\n",
    "INSERT INTO office (address) VALUES\n",
    "('123 Main St'),\n",
    "('456 Oak Ave');\n",
    "\n",
    "INSERT INTO warehouse (address) VALUES\n",
    "('789 Elm St');\n",
    "COMMIT;\n",
    "\n",
    "INSERT INTO works (ssn, name, address) VALUES\n",
    "('123-45-6789', 'Sales', '123 Main St'),\n",
    "('234-56-7890', 'Marketing', '456 Oak Ave'),\n",
    "('345-67-8901', 'Engineering', '789 Elm St');\n",
    "\n",
    "INSERT INTO supplier (TIN, name, address, SKU, date) VALUES\n",
    "('987-65-4321', 'Supplier 1', '123 Main St', 'SKU123', '2023-06-01'),\n",
    "('876-54-3210', 'Supplier 2', '456 Oak Ave', 'SKU456', '2023-06-02'),\n",
    "('765-43-2109', 'Supplier 3', '789 Elm St', 'SKU789', '2023-06-03');\n",
    "\n",
    "INSERT INTO delivery (address, TIN) VALUES\n",
    "('789 Elm St', '987-65-4321'),\n",
    "('789 Elm St', '876-54-3210'),\n",
    "('789 Elm St', '765-43-2109');\n",
    "\n",
    "BEGIN;\n",
    "INSERT INTO customer (cust_no, name, email, phone, address) VALUES\n",
    "(4, 'Sarah Johnson', 'sarah@example.com', '555-123-4567', '789 Elm St'),\n",
    "(5, 'Michael Smith', 'michael@example.com', '555-987-6543', '456 Oak Ave'),\n",
    "(6, 'Emma Wilson', 'emma@example.com', '555-111-2222', '789 Main St'),\n",
    "(7, 'Christopher Davis', 'chris@example.com', '555-333-4444', '456 Elm St');\n",
    "\n",
    "INSERT INTO orders (order_no, cust_no, date) VALUES\n",
    "(6, 4, '1022-06-06'),\n",
    "(7, 5, '1022-06-07'),\n",
    "(8, 6, '1022-06-08'),\n",
    "(9, 7, '1022-06-09');\n",
    "\n",
    "INSERT INTO product (SKU, name, description, price, ean) VALUES\n",
    "('SKU987', 'Product 4', 'This is product 4', 7.99, 4567890123456),\n",
    "('SKU653', 'Product 5', 'This is product 5', 12.99, 5678901234567),\n",
    "('SKU321', 'Product 6', 'This is product 6', 9.99, 6789012345678),\n",
    "('SKU654', 'Product 7', 'This is product 7', 15.99, 7890123456789);\n",
    "\n",
    "INSERT INTO contains (order_no, SKU, qty) VALUES\n",
    "(6, 'SKU987', 2),\n",
    "(7, 'SKU653', 1),\n",
    "(8, 'SKU321', 3),\n",
    "(9, 'SKU654', 2);\n",
    "\n",
    "INSERT INTO pay (order_no, cust_no) VALUES\n",
    "(4, 1),\n",
    "(5, 2),\n",
    "(8, 6),\n",
    "(9, 7);\n",
    "\n",
    "INSERT INTO employee (ssn, TIN, bdate, name) VALUES\n",
    "('456-78-9012', '654-32-1098', '1998-04-04', 'Emily Davis'),\n",
    "('567-89-0123', '543-21-0987', '1992-05-05', 'Alex Johnson'),\n",
    "('678-90-1234', '432-10-9876', '1996-06-06', 'Olivia Anderson'),\n",
    "('789-01-2345', '321-09-8765', '1994-07-07', 'William Thompson');\n",
    "\n",
    "INSERT INTO process (ssn, order_no) VALUES\n",
    "('456-78-9012', 4),\n",
    "('567-89-0123', 5),\n",
    "('123-45-6789', 6),\n",
    "('123-45-6789', 7),\n",
    "('678-90-1234', 8),\n",
    "('789-01-2345', 9);\n",
    "\n",
    "INSERT INTO department (name) VALUES\n",
    "('Human Resources'),\n",
    "('Finance'),\n",
    "('Operations'),\n",
    "('IT');\n",
    "\n",
    "INSERT INTO workplace (address, lat, long) VALUES\n",
    "('101 Elm St', 41.8781, -87.6298),\n",
    "('202 Oak Ave', 38.9072, -77.0372),\n",
    "('303 Main St', 37.7749, -122.4124),\n",
    "('404 Pine St', 34.0522, -118.2432);\n",
    "\n",
    "INSERT INTO office (address) VALUES\n",
    "('101 Elm St'),\n",
    "('202 Oak Ave'),\n",
    "('303 Main St');\n",
    "\n",
    "INSERT INTO warehouse (address) VALUES\n",
    "('404 Pine St');\n",
    "\n",
    "INSERT INTO works (ssn, name, address) VALUES\n",
    "('456-78-9012', 'Human Resources', '101 Elm St'),\n",
    "('567-89-0123', 'Finance', '202 Oak Ave'),\n",
    "('678-90-1234', 'Operations', '303 Main St'),\n",
    "('789-01-2345', 'IT', '404 Pine St');\n",
    "\n",
    "INSERT INTO supplier (TIN, name, address, SKU, date) VALUES\n",
    "('654-32-1098', 'Supplier 4', '101 Elm St', 'SKU987', '2023-06-04'),\n",
    "('543-21-0987', 'Supplier 5', '202 Oak Ave', 'SKU653', '2023-06-05'),\n",
    "('432-10-9876', 'Supplier 6', '303 Main St', 'SKU321', '2023-06-06'),\n",
    "('321-09-8765', 'Supplier 7', '404 Pine St', 'SKU654', '2023-06-07');\n",
    "\n",
    "INSERT INTO delivery (address, TIN) VALUES\n",
    "('404 Pine St', '654-32-1098'),\n",
    "('404 Pine St', '543-21-0987'),\n",
    "('404 Pine St', '432-10-9876'),\n",
    "('404 Pine St', '321-09-8765');\n",
    "COMMIT;"
   ]
  },
  {
   "attachments": {},
   "cell_type": "markdown",
   "id": "9772880f-58f0-46c8-9670-737390210bb4",
   "metadata": {
    "tags": []
   },
   "source": [
    "## 1. Restrições de Integridade\n",
    "\n",
    "Apresente o código para implementar as seguintes restrições de integridade, se necessário, com recurso a extensões procedimentais SQL (Stored Procedures e Triggers):"
   ]
  },
  {
   "attachments": {},
   "cell_type": "markdown",
   "id": "a0a92dd6-9093-4f4e-addf-591d83c466b3",
   "metadata": {},
   "source": [
    "(RI-1) Nenhum empregado pode ter menos de 18 anos de idade"
   ]
  },
  {
   "cell_type": "code",
   "execution_count": null,
   "id": "c422052c-0463-46ae-9be1-b6f6ed19d2b9",
   "metadata": {
    "tags": []
   },
   "outputs": [],
   "source": [
    "%%sql\n",
    "-- (RI-1)\n",
    "ALTER TABLE employee\n",
    "ADD CONSTRAINT RI_1\n",
    "CHECK (DATE_PART('year', age(bdate)) >= 18);\n"
   ]
  },
  {
   "attachments": {},
   "cell_type": "markdown",
   "id": "e99193b5-fd48-4601-a226-34432074af53",
   "metadata": {},
   "source": [
    "(RI-2) Um 'Workplace' é obrigatoriamente um 'Office' ou 'Warehouse' mas não pode ser ambos"
   ]
  },
  {
   "cell_type": "code",
   "execution_count": null,
   "id": "188ec396-6e55-4fd3-b436-dcafe454f677",
   "metadata": {
    "tags": []
   },
   "outputs": [],
   "source": [
    "%%sql\n",
    "-- (RI-2)\n",
    "CREATE OR REPLACE FUNCTION check_workplace_type() RETURNS TRIGGER AS $$\n",
    "BEGIN\n",
    "    IF TG_TABLE_NAME = 'office' THEN\n",
    "        IF EXISTS (SELECT 1 FROM warehouse WHERE address = NEW.address) THEN\n",
    "            RAISE EXCEPTION 'A workplace cannot be both an office and a warehouse';\n",
    "        END IF;\n",
    "    ELSIF TG_TABLE_NAME = 'warehouse' THEN\n",
    "        IF EXISTS (SELECT 1 FROM office WHERE address = NEW.address) THEN\n",
    "            RAISE EXCEPTION 'A workplace cannot be both an office and a warehouse';\n",
    "        END IF;\n",
    "    ELSIF NOT EXISTS (SELECT 1 FROM office WHERE address = NEW.address) AND NOT EXISTS (SELECT 1 FROM warehouse WHERE address = NEW.address) THEN\n",
    "        RAISE EXCEPTION 'A workplace must be either an office or a warehouse';\n",
    "    END IF;\n",
    "    RETURN NEW;\n",
    "END;\n",
    "$$ LANGUAGE plpgsql;\n",
    "\n",
    "CREATE TRIGGER check_office_workplace\n",
    "    BEFORE INSERT OR UPDATE ON office\n",
    "    FOR EACH ROW\n",
    "    EXECUTE FUNCTION check_workplace_type();\n",
    "\n",
    "CREATE TRIGGER check_warehouse_workplace\n",
    "    BEFORE INSERT OR UPDATE ON warehouse\n",
    "    FOR EACH ROW\n",
    "    EXECUTE FUNCTION check_workplace_type();\n",
    "\n",
    "CREATE CONSTRAINT TRIGGER check_workplace_insert\n",
    "    AFTER INSERT OR UPDATE ON workplace\n",
    "    DEFERRABLE INITIALLY DEFERRED\n",
    "    FOR EACH ROW\n",
    "    EXECUTE FUNCTION check_workplace_type();\n"
   ]
  },
  {
   "attachments": {},
   "cell_type": "markdown",
   "id": "7e659751-bbd0-475a-b36e-8d40d7d58a54",
   "metadata": {},
   "source": [
    "(RI-3) Uma 'Order' tem de figurar obrigatoriamente em 'Contains'."
   ]
  },
  {
   "cell_type": "code",
   "execution_count": null,
   "id": "f2993b94-77a8-4b09-b522-f39021c55131",
   "metadata": {
    "tags": []
   },
   "outputs": [],
   "source": [
    "%%sql\n",
    "-- (RI-3)\n",
    "CREATE OR REPLACE FUNCTION check_contains_order_no() RETURNS TRIGGER AS $$\n",
    "BEGIN\n",
    "    IF NOT EXISTS (SELECT 1 FROM contains WHERE order_no = NEW.order_no) THEN\n",
    "        RAISE EXCEPTION 'Order number % does not exist in the contains table', NEW.order_no;\n",
    "    END IF;\n",
    "    RETURN NEW;\n",
    "END;\n",
    "$$ LANGUAGE plpgsql;\n",
    "\n",
    "CREATE CONSTRAINT TRIGGER check_contains_order_no_trigger\n",
    "    AFTER INSERT OR UPDATE ON orders\n",
    "    DEFERRABLE INITIALLY DEFERRED\n",
    "    FOR EACH ROW\n",
    "    EXECUTE FUNCTION check_contains_order_no();\n"
   ]
  },
  {
   "attachments": {},
   "cell_type": "markdown",
   "id": "37637f46-470f-431a-9833-4d8665176450",
   "metadata": {
    "tags": []
   },
   "source": [
    "## 2. Consultas SQL"
   ]
  },
  {
   "attachments": {},
   "cell_type": "markdown",
   "id": "f861ee47-e72b-4633-8dac-b4728ed852b9",
   "metadata": {},
   "source": [
    "Apresente a consulta SQL mais sucinta para cada uma das seguintes questões"
   ]
  },
  {
   "attachments": {},
   "cell_type": "markdown",
   "id": "fd2e1654-059e-4ef5-a63d-5e81280baab0",
   "metadata": {},
   "source": [
    "1) Qual o número e nome do(s) cliente(s) com maior valor total de encomendas pagas?  "
   ]
  },
  {
   "cell_type": "code",
   "execution_count": null,
   "id": "5b79ced0-279d-4e04-921e-0c831d7a79f2",
   "metadata": {
    "tags": []
   },
   "outputs": [],
   "source": [
    "%%sql\n",
    "\n",
    "SELECT\n",
    "    c.cust_no,\n",
    "    c.name\n",
    "FROM\n",
    "    customer c\n",
    "JOIN\n",
    "    orders o ON c.cust_no = o.cust_no\n",
    "JOIN\n",
    "    pay p ON o.order_no = p.order_no\n",
    "JOIN\n",
    "    contains cn ON o.order_no = cn.order_no\n",
    "JOIN\n",
    "    product pr ON cn.SKU = pr.SKU\n",
    "GROUP BY\n",
    "    c.cust_no,\n",
    "    c.name\n",
    "HAVING\n",
    "    SUM(pr.price * cn.qty) = (\n",
    "        SELECT\n",
    "            MAX(total_order_value)\n",
    "        FROM\n",
    "            (SELECT\n",
    "                c.cust_no,\n",
    "                SUM(pr.price * cn.qty) AS total_order_value\n",
    "            FROM\n",
    "                customer c\n",
    "            JOIN\n",
    "                orders o ON c.cust_no = o.cust_no\n",
    "            JOIN\n",
    "                pay p ON o.order_no = p.order_no\n",
    "            JOIN\n",
    "                contains cn ON o.order_no = cn.order_no\n",
    "            JOIN\n",
    "                product pr ON cn.SKU = pr.SKU\n",
    "            GROUP BY\n",
    "                c.cust_no) AS totals\n",
    "    );\n"
   ]
  },
  {
   "attachments": {},
   "cell_type": "markdown",
   "id": "4f863499-c40e-428c-85e8-d2741362906d",
   "metadata": {},
   "source": [
    "2. Qual o nome dos empregados que processaram encomendas em todos os dias de 2022 em que houve encomendas?"
   ]
  },
  {
   "cell_type": "code",
   "execution_count": null,
   "id": "aadac5e9-d0e4-46e0-bab5-33d00b863884",
   "metadata": {
    "tags": []
   },
   "outputs": [],
   "source": [
    "%%sql\n",
    "\n",
    "SELECT e.name\n",
    "FROM employee e\n",
    "INNER JOIN process p ON e.ssn = p.ssn\n",
    "INNER JOIN orders o ON p.order_no = o.order_no\n",
    "WHERE date_part('year', o.date) = 2022\n",
    "GROUP BY e.name\n",
    "HAVING COUNT(DISTINCT date_trunc('day', o.date)) = (\n",
    "    SELECT COUNT(DISTINCT date_trunc('day', o.date))\n",
    "    FROM orders o\n",
    "    WHERE date_part('year', o.date) = 2022\n",
    ");\n"
   ]
  },
  {
   "attachments": {},
   "cell_type": "markdown",
   "id": "e871bc9e-60c4-465b-a727-9ff2d2115d0b",
   "metadata": {},
   "source": [
    "3. Quantas encomendas foram realizadas mas não pagas em cada mês de 2022?"
   ]
  },
  {
   "cell_type": "code",
   "execution_count": null,
   "id": "3e3e702e-1acb-4004-aa9e-31e4d5916669",
   "metadata": {
    "tags": []
   },
   "outputs": [],
   "source": [
    "%%sql\n",
    "\n",
    "SELECT EXTRACT(month FROM o.date) AS month, COUNT(*) AS num_unpaid_orders\n",
    "FROM orders o\n",
    "LEFT JOIN pay p ON o.order_no = p.order_no\n",
    "WHERE EXTRACT(year FROM o.date) = 2022 AND p.order_no IS NULL\n",
    "GROUP BY EXTRACT(month FROM o.date)\n",
    "ORDER BY EXTRACT(month FROM o.date);\n"
   ]
  },
  {
   "attachments": {},
   "cell_type": "markdown",
   "id": "97f45cec-fe42-418a-b85d-c9e51807a42c",
   "metadata": {},
   "source": [
    "## 3. Vistas"
   ]
  },
  {
   "attachments": {},
   "cell_type": "markdown",
   "id": "03062b56-40fa-41c0-aac9-3e77b9049c27",
   "metadata": {},
   "source": [
    "Crie uma vista que resuma as informações mais importantes sobre as vendas de produtos, combinando informações de diferentes tabelas do esquema de base de dados. A vista deve ter o seguinte esquema:\n",
    "\n",
    "product_sales(sku, order_no, qty, total_price, year, month, day_of_month, day_of_week, city)"
   ]
  },
  {
   "cell_type": "code",
   "execution_count": null,
   "id": "0bbb2226-5de4-4051-b4c0-9130bd4904f5",
   "metadata": {
    "tags": []
   },
   "outputs": [],
   "source": [
    "%%sql\n",
    "CREATE VIEW product_sales AS\n",
    "SELECT\n",
    "    p.SKU,\n",
    "    o.order_no,\n",
    "    c.qty,\n",
    "    (c.qty * p.price) AS total_price,\n",
    "    EXTRACT(YEAR FROM o.date) AS year,\n",
    "    EXTRACT(MONTH FROM o.date) AS month,\n",
    "    EXTRACT(DAY FROM o.date) AS day_of_month,\n",
    "    EXTRACT(DOW FROM o.date) AS day_of_week,\n",
    "    SPLIT_PART(cu.address, ',', 1) AS city\n",
    "FROM\n",
    "    product p\n",
    "    JOIN contains c ON p.SKU = c.SKU\n",
    "    JOIN orders o ON c.order_no = o.order_no\n",
    "    JOIN customer cu ON o.cust_no = cu.cust_no;\n"
   ]
  },
  {
   "attachments": {},
   "cell_type": "markdown",
   "id": "6b615865-602f-4974-9de1-27d0060362ef",
   "metadata": {
    "tags": []
   },
   "source": [
    "## 4. Desenvolvimento de Aplicação"
   ]
  },
  {
   "attachments": {},
   "cell_type": "markdown",
   "id": "0bad635d-f5c2-449f-97b0-90d10a4d482b",
   "metadata": {},
   "source": [
    "### Explicação da arquitetura da aplicação web, incluindo um link para uma versão de trabalho e as relações entre os vários ficheiros na pasta web/arquivos\n",
    "\n",
    "Trata-se duma aplicação Flask com um banco de dados PostgreSQL como armazenamento persistente dos dados - a conexão com este é estabelecida através de psycopg (um adptador PostgreSQL para Python). A aplicação conta com Flask (uma framework web leve e flexível para Python), e utiliza o protocolo WSGI (Web Server Gateway Interface - fornecido pelo próprio Flask) para a comunicação entre a aplicação Flask e o servidor web.\n",
    "\n",
    "Utilizamos uma pool de conexões para as gerenciar com o banco de dados de forma eficiente. A classe ConnectionPool do módulo psycopg_pool é utilizada para criar e gerenciar um pool de conexões PostgreSQL. Isso ajuda a reutilizar conexões e reduzir o overhead de criar uma nova conexão para cada request.\n",
    "\n",
    "O módulo logging do Python configura o registo de logs, e é acompanhado pela função distConfig que configura as definições de logging, incluindo o formato do log, os handlers e os níveis de log. Os logs são transmitidos para o fluxo de erro padrão do Flask.\n",
    "\n",
    "Utilizámos o @app.route (do Flask) para definir várias rotas - cada uma representa uma combinação específica de endpoint URL e método HTTP, e está associada a uma função Python que lida com o request HTTP correspondente, executando queries na base de dados e renderizando templates HTML. Estes templates são renderizados com mecanismos do Flask e com base no layout definido com Jinja no base.html. Com o Jinja, é-nos possível popular a página web com dados da base de dados, para listar produtos, encomendas, clientes e fornecedores.\n",
    "\n",
    "A app inclui um mecanismo de tratamento de erros, que captura e lida com exceções que ocorram durante o processamento dos requests. Quando um erro é capturado, o template error.html é renderizado, mostrando a mensagem de erro.\n",
    "\n",
    "Para o utilizador da app interagir com a base de dados, este depara-se com formulários (forms de html) cujos dados são processados e utilizados em queries enviadas para a base de dados, como INSERT, UPDATE, DELETE de registros.\n",
    "\n",
    "A aplicação suporta várias APIs RESTful para realizar operações CRUD (Criar, Ler, Atualizar, Deletar) em entidades de clientes, fornecedores, produtos e encomendas. As APIs são definidas como funções de rota e correspondem a métodos HTTP específicos (GET, POST, etc.).\n",
    "\n",
    "Resumindo, a aplicação segue a arquitetura típica de uma aplicação web Flask com um banco de dados PostgreSQL. Utiliza rotas para mapear os URLs e métodos HTTP para funções Python correspondentes, manipula requests e responses, renderiza templates HTML, faz consultas e operações na base de dados, e possui um mecanismo de tratamento de erros. Através das APIs RESTful, os users podem realizar operações de criação, leitura, atualização e exclusão de dados nas entidades de clientes, fornecedores, produtos e encomendas. Essa arquitetura permite a construção de uma aplicação web funcional e escalável."
   ]
  },
  {
   "attachments": {},
   "cell_type": "markdown",
   "id": "5dff0f43-90cc-4ab5-b874-c3fb24776728",
   "metadata": {},
   "source": [
    "## 5. Consultas OLAP"
   ]
  },
  {
   "attachments": {},
   "cell_type": "markdown",
   "id": "5c8c25ed-b858-4daf-a291-b59e489c0a44",
   "metadata": {},
   "source": [
    "Usando a vista desenvolvida para a Questão 3, escreva duas consultas SQL que permitam analisar:"
   ]
  },
  {
   "attachments": {},
   "cell_type": "markdown",
   "id": "bd8d173c-e72f-4e89-8949-e2df3b7b07a3",
   "metadata": {},
   "source": [
    "1. As quantidade e valores totais de venda de cada produto em 2022, globalmente, por cidade, por mês, dia do mês e dia da semana"
   ]
  },
  {
   "cell_type": "code",
   "execution_count": null,
   "id": "bf12ce01-15c0-4e7c-b329-576dd344ebf6",
   "metadata": {
    "tags": []
   },
   "outputs": [],
   "source": [
    "%%sql\n",
    "\n",
    "/* global */\n",
    "\n",
    "SELECT\n",
    "    sku,\n",
    "    SUM(qty) AS total_quantity,\n",
    "    SUM(total_price) AS total_value\n",
    "FROM\n",
    "    product_sales\n",
    "WHERE\n",
    "    year = 2022\n",
    "GROUP BY\n",
    "    ROLLUP (sku);\n",
    "\n",
    "/* por sku e city*/\n",
    "\n",
    "SELECT\n",
    "    sku,\n",
    "    city,\n",
    "    SUM(qty) AS total_quantity,\n",
    "    SUM(total_price) AS total_value\n",
    "FROM\n",
    "    product_sales\n",
    "WHERE\n",
    "    year = 2022\n",
    "GROUP BY\n",
    "    ROLLUP (sku, city);\n",
    "\n",
    "/* por sku e month */\n",
    "\n",
    "SELECT\n",
    "    sku,\n",
    "    month,\n",
    "    SUM(qty) AS total_quantity,\n",
    "    SUM(total_price) AS total_value\n",
    "FROM\n",
    "    product_sales\n",
    "WHERE\n",
    "    year = 2022\n",
    "GROUP BY\n",
    "    ROLLUP (sku, month);\n",
    "\n",
    "/* por sku e dia do mês */\n",
    "\n",
    "SELECT\n",
    "    sku,\n",
    "    day_of_month,\n",
    "    SUM(qty) AS total_quantity,\n",
    "    SUM(total_price) AS total_value\n",
    "FROM\n",
    "    product_sales\n",
    "WHERE\n",
    "    year = 2022\n",
    "GROUP BY\n",
    "    ROLLUP (sku, day_of_month);\n",
    "\n",
    "/* por sku e dia da semana */\n",
    "\n",
    "SELECT\n",
    "    sku,\n",
    "    day_of_week,\n",
    "    SUM(qty) AS total_quantity,\n",
    "    SUM(total_price) AS total_value\n",
    "FROM\n",
    "    product_sales\n",
    "WHERE\n",
    "    year = 2022\n",
    "GROUP BY\n",
    "    ROLLUP (sku, day_of_week);"
   ]
  },
  {
   "attachments": {},
   "cell_type": "markdown",
   "id": "a6f88296-429c-4c1c-9a7a-5cbe9cb65920",
   "metadata": {},
   "source": [
    "2. O valor médio diário das vendas de todos os produtos em 2022, globalmente, por mês e dia da semana"
   ]
  },
  {
   "cell_type": "code",
   "execution_count": null,
   "id": "7aac0901-02ad-4a40-964e-dc03430f8e77",
   "metadata": {
    "tags": []
   },
   "outputs": [],
   "source": [
    "%%sql\n",
    "\n",
    "SELECT sku, month, day_of_week, AVG(total_price) AS mean_daily_sales\n",
    "FROM product_sales\n",
    "WHERE year = 2022\n",
    "GROUP BY ROLLUP (sku, month, day_of_week);"
   ]
  },
  {
   "attachments": {},
   "cell_type": "markdown",
   "id": "5a75300b-51d0-4512-8b50-ffac98d66070",
   "metadata": {
    "tags": []
   },
   "source": [
    "## 6. Índices"
   ]
  },
  {
   "attachments": {},
   "cell_type": "markdown",
   "id": "35f160cc-30e9-4381-9b3e-0d78ef421af8",
   "metadata": {
    "tags": []
   },
   "source": [
    "Indique, com a devida justificação, que tipo de índice(s), sobre qual(is) atributo(s) e sobre qual(is) tabela(s) faria sentido criar, de forma a agilizar a execução de cada uma das seguintes consultas: "
   ]
  },
  {
   "attachments": {},
   "cell_type": "markdown",
   "id": "6e6e7eb2-c8ba-4d93-a31b-a2384d538fc0",
   "metadata": {},
   "source": [
    "### 6.1\n",
    "SELECT order_no\n",
    "FROM orders \n",
    "JOIN contains USING (order_no) \n",
    "JOIN product USING (SKU) \n",
    "WHERE price > 50 AND \n",
    "EXTRACT(YEAR FROM date) = 2023"
   ]
  },
  {
   "attachments": {},
   "cell_type": "markdown",
   "id": "b12768c7-efcc-4550-a7c1-7f8bbafd6409",
   "metadata": {},
   "source": [
    "### Tipo de Índice, Atributos & Justificação  \n",
    "\n",
    "Para melhorar a performance da query, criaria os seguintes indíces:  \n",
    "\n",
    "(1)Indíce na coluna price da tabela produto:  \n",
    "**CREATE INDEX idx_product_price ON product (price);**  \n",
    "Este indíce ajuda a optimizar a condição WHERE price > 50 condition, permitindo uma filtração eficiente.  \n",
    "\n",
    "(2)Indíce na coluna date da tabela orders:  \n",
    "**CREATE INDEX idx_orders_date ON orders (date);**  \n",
    "Este indíce suporta a condição EXTRACT(YEAR FROM date) = 2023, permitindo uma procura rápida, e retorno das orders do ano especificado.  \n",
    "\n",
    "(3) Indíce na coluna order_no da tabela contains:  \n",
    "**CREATE INDEX idx_contains_order_no ON contains (order_no);**  \n",
    "Este indíce facilita o join entre as tabelas orders e contains (através da coluna order_no).  \n",
    "\n",
    "Os indíces escolhidos são indíces B-tree que se focam nas colunas usadas na filtragem (price e date) e no join (order_no). Ao indexar estas colunas, a base de dados consegue localizar as linhas relevantes, reduzindo a necessidade de percorrer totalmente as tabelas, e melhorando a performance da query.\n",
    "\n",
    "Outros tipos de indíces, como indíces de chave composta, ou indíces de cobertura, poderiam não ser tão eficientes neste cenário, porque: indíces de chave composta são mais úteis quando múltiplas colunas são usadas em conjunto frequentemente, em condições de join ou de filtragem, mas nesta query, cada coluna tem um propósito distinto de filtragem/join; por sua vez, indíces de cobertura, que incluem todas as colunas relevantes à query, poderiam ser considerados, mas o custo ia sobrepôr-se aos potenciais benefícios deste indíce."
   ]
  },
  {
   "attachments": {},
   "cell_type": "markdown",
   "id": "89f6cb2b-8425-42f8-810c-9c9e5797b686",
   "metadata": {},
   "source": [
    "### 6.2\n",
    "SELECT order_no, SUM(qty*price)\n",
    "FROM contains \n",
    "JOIN product USING (SKU) \n",
    "WHERE name LIKE ‘A%’ \n",
    "GROUP BY order_no;"
   ]
  },
  {
   "attachments": {},
   "cell_type": "markdown",
   "id": "1af12988-e1f5-4a72-835d-9aba30d0ce88",
   "metadata": {},
   "source": [
    "### Tipo de Índice, Atributos & Justificação\n",
    "\n",
    "Para melhorar a performance da query, criaria os seguintes indíces:  \n",
    "\n",
    "(1) Indíce na coluna name da tabela product:  \n",
    "**CREATE INDEX idx_product_name ON product (name);**  \n",
    "Este indíce ajuda a optimizar a operação WHERE name LIKE 'A%', ao returnar eficientemente as linhas com base na coluna name  \n",
    "\n",
    "(2) Indíce na coluna SKU na tabela contains  \n",
    "**CREATE INDEX idx_contains_SKU ON contains (SKU);**  \n",
    "Este indíce ajuda a operação join entre as tabelas contains e product(através da coluna SKU)  \n",
    "\n",
    "Estes dois indíces devem provenir as melhorias de performance mais significativas para esta query. Ao criar estes indíces B-tree, a base de dados consegue localizar as linhas relevantes baseado em name e SKU, reduzindo a necessidade de percorrer as tabelas na sua totalidade, e aumentando a velocidade de execução da query.  \n",
    "\n",
    "Outros tipos de indíces, como indíces de hash, não são recomendados para este cenário. Isto porque este tipo de indíce é apropriado para procuras baseadas em igualdades, ao contrário do que acontece na query: uma operação de pattern matching (name LIKE 'A%'). Indíces B-tree são mais apropriados para optimizar pattern matching de strings, estando alinhavados com as necessidades da query.  "
   ]
  }
 ],
 "metadata": {
  "kernelspec": {
   "display_name": "Python 3 (ipykernel)",
   "language": "python",
   "name": "python3"
  },
  "language_info": {
   "codemirror_mode": {
    "name": "ipython",
    "version": 3
   },
   "file_extension": ".py",
   "mimetype": "text/x-python",
   "name": "python",
   "nbconvert_exporter": "python",
   "pygments_lexer": "ipython3",
   "version": "3.10.11"
  }
 },
 "nbformat": 4,
 "nbformat_minor": 5
}
